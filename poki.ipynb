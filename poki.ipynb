{
 "cells": [
  {
   "cell_type": "code",
   "execution_count": 36,
   "metadata": {},
   "outputs": [
    {
     "ename": "PanicException",
     "evalue": "called `Result::unwrap()` on an `Err` value: \"parse failed: expected rank character, but got '1'\"",
     "output_type": "error",
     "traceback": [
      "\u001b[1;31m---------------------------------------------------------------------------\u001b[0m",
      "\u001b[1;31mPanicException\u001b[0m                            Traceback (most recent call last)",
      "\u001b[1;32mc:\\Users\\samuel.aron\\Desktop\\IsssaMeMaaario\\poker\\poki.ipynb Cell 1\u001b[0m line \u001b[0;36m2\n\u001b[0;32m      <a href='vscode-notebook-cell:/c%3A/Users/samuel.aron/Desktop/IsssaMeMaaario/poker/poki.ipynb#W0sZmlsZQ%3D%3D?line=0'>1</a>\u001b[0m \u001b[39mimport\u001b[39;00m \u001b[39mholdem_hand_evaluator\u001b[39;00m\n\u001b[1;32m----> <a href='vscode-notebook-cell:/c%3A/Users/samuel.aron/Desktop/IsssaMeMaaario/poker/poki.ipynb#W0sZmlsZQ%3D%3D?line=1'>2</a>\u001b[0m holdem_hand_evaluator\u001b[39m.\u001b[39;49mevaluate_hand(\u001b[39m\"\u001b[39;49m\u001b[39m3s3c10dad2hksas\u001b[39;49m\u001b[39m\"\u001b[39;49m)\n\u001b[0;32m      <a href='vscode-notebook-cell:/c%3A/Users/samuel.aron/Desktop/IsssaMeMaaario/poker/poki.ipynb#W0sZmlsZQ%3D%3D?line=2'>3</a>\u001b[0m \u001b[39m#bigger is better\u001b[39;00m\n",
      "\u001b[1;31mPanicException\u001b[0m: called `Result::unwrap()` on an `Err` value: \"parse failed: expected rank character, but got '1'\""
     ]
    }
   ],
   "source": [
    "import holdem_hand_evaluator\n",
    "holdem_hand_evaluator.evaluate_hand(\"7h7c7d7sAc9c8c\")\n",
    "#bigger is better"
   ]
  },
  {
   "cell_type": "code",
   "execution_count": 38,
   "metadata": {},
   "outputs": [
    {
     "name": "stdout",
     "output_type": "stream",
     "text": [
      "['Ad', '9h']\n",
      "['Kh', 'Kd']\n",
      "250\n",
      "['8d', '4c', 'As']\n",
      "1250\n",
      "['3s']\n",
      "3250\n",
      "['Th']\n",
      "8250\n",
      "-------------------------------------\n",
      "winning hand: ['Ad', '9h']\n"
     ]
    },
    {
     "data": {
      "text/plain": [
       "'new stack 8250'"
      ]
     },
     "execution_count": 38,
     "metadata": {},
     "output_type": "execute_result"
    }
   ],
   "source": [
    "import random as rand\n",
    "import time\n",
    "import copy as cp\n",
    "\n",
    "class Player():\n",
    "    def __init__(self):\n",
    "        self.cards = None\n",
    "        self.stack = 10**3\n",
    "    def bet(self, amount):\n",
    "        if amount > self.stack:\n",
    "            amount = self.stack\n",
    "        self.stack -= amount\n",
    "        return amount, self.stack\n",
    "\n",
    "\n",
    "class dealer():\n",
    "    def __init__(self, Players):\n",
    "        vals = [str(i) for i in range(2,10)] + ['T', 'J', 'Q', 'K', 'A']\n",
    "        suits = ['h', 'c', 'd', 's']\n",
    "        self.deck = [j + i for i in suits for j in vals]\n",
    "        self.Players = Players\n",
    "        self.played = []\n",
    "        self.pot = 0\n",
    "    \n",
    "    def take_card(self):\n",
    "        card = rand.choice(self.deck)\n",
    "        self.deck.remove(card)\n",
    "        return card\n",
    "    \n",
    "    def preflop(self):\n",
    "        for player in self.Players:\n",
    "            player.cards = [self.take_card(), self.take_card()]\n",
    "        \n",
    "    def flop(self):\n",
    "        cs = [self.take_card(), self.take_card(), self.take_card()]\n",
    "        self.played = cs\n",
    "        return cs\n",
    "\n",
    "    def turn(self):\n",
    "        cs = [self.take_card()]\n",
    "        self.played += cs\n",
    "        return cs\n",
    "\n",
    "    def river(self):\n",
    "        cs = [self.take_card()]\n",
    "        self.played += cs\n",
    "        return cs\n",
    "    \n",
    "    def award_winner(self):\n",
    "        scores = []\n",
    "        for player in self.Players:\n",
    "            scores.append(holdem_hand_evaluator.evaluate_hand(''.join(player.cards + self.played)))\n",
    "        winner_index = scores.index(max(scores))\n",
    "        print(f'winning hand: {self.Players[winner_index].cards}')\n",
    "        self.Players[winner_index].stack += self.pot\n",
    "        return f'new stack {self.Players[winner_index].stack}'\n",
    "            \n",
    "        \n",
    "        \n",
    "\n",
    "\n",
    "            \n",
    "def betting(ps):\n",
    "    playrs = cp.copy(ps)\n",
    "    previous = 0\n",
    "    done= []\n",
    "    while playrs:\n",
    "        p = playrs[0]\n",
    "        bet = int(input(f'what would you like to bet with {p.cards} and {p.stack}. the previous player bet {previous} ? '))\n",
    "        while bet< previous:\n",
    "            bet = int(input('please bet more or as much as the previous'))\n",
    "        p.bet(bet)\n",
    "        d1.pot += bet\n",
    "        if bet > previous:\n",
    "            previous = bet\n",
    "            playrs = playrs + done\n",
    "            done = []\n",
    "        done.append(p)\n",
    "        playrs.remove(p)    \n",
    "        \n",
    "ps = [Player() for i in range(2)]       \n",
    "        \n",
    "d1 = dealer(ps)\n",
    "d1.preflop()\n",
    "for p in ps:\n",
    "    print(p.cards)\n",
    "\n",
    "time.sleep(1)\n",
    "\n",
    "betting(ps)\n",
    "print(d1.pot)\n",
    "\n",
    "time.sleep(1)\n",
    "\n",
    "print(d1.flop())\n",
    "betting(ps)\n",
    "print(d1.pot)\n",
    "\n",
    "time.sleep(1)\n",
    "\n",
    "print(d1.turn())\n",
    "betting(ps)\n",
    "print(d1.pot)\n",
    "\n",
    "time.sleep(1)\n",
    "\n",
    "print(d1.river())\n",
    "betting(ps)\n",
    "print(d1.pot)\n",
    "\n",
    "print('-------------------------------------')\n",
    "d1.award_winner()"
   ]
  },
  {
   "cell_type": "code",
   "execution_count": null,
   "metadata": {},
   "outputs": [],
   "source": []
  },
  {
   "cell_type": "code",
   "execution_count": null,
   "metadata": {},
   "outputs": [],
   "source": []
  }
 ],
 "metadata": {
  "kernelspec": {
   "display_name": "Python 3",
   "language": "python",
   "name": "python3"
  },
  "language_info": {
   "codemirror_mode": {
    "name": "ipython",
    "version": 3
   },
   "file_extension": ".py",
   "mimetype": "text/x-python",
   "name": "python",
   "nbconvert_exporter": "python",
   "pygments_lexer": "ipython3",
   "version": "3.12.0"
  },
  "orig_nbformat": 4
 },
 "nbformat": 4,
 "nbformat_minor": 2
}
