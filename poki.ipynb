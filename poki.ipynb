{
 "cells": [
  {
   "cell_type": "code",
   "execution_count": 8,
   "metadata": {},
   "outputs": [
    {
     "data": {
      "text/plain": [
       "28743"
      ]
     },
     "execution_count": 8,
     "metadata": {},
     "output_type": "execute_result"
    }
   ],
   "source": [
    "import holdem_hand_evaluator\n",
    "holdem_hand_evaluator.evaluate_hand(\"7h7c7d7sAc9c8c\")\n",
    "#bigger is better"
   ]
  },
  {
   "cell_type": "code",
   "execution_count": 16,
   "metadata": {},
   "outputs": [
    {
     "name": "stdout",
     "output_type": "stream",
     "text": [
      "['As', '9h']\n",
      "['Kd', '7d']\n",
      "['2s', '4d']\n"
     ]
    }
   ],
   "source": [
    "import random as rand\n",
    "\n",
    "class Player():\n",
    "    def __init__(self):\n",
    "        self.cards = None\n",
    "        self.stack = 10**3\n",
    "    def bet(self, amount):\n",
    "        if amount > self.stack:\n",
    "            amount = self.stack\n",
    "        self.stack -= amount\n",
    "        return amount, self.stack\n",
    "\n",
    "\n",
    "class dealer():\n",
    "    def __init__(self, Players):\n",
    "        vals = [str(i) for i in range(2,11)] + ['J', 'Q', 'K', 'A']\n",
    "        suits = ['h', 'c', 'd', 's']\n",
    "        self.deck = [j + i for i in suits for j in vals]\n",
    "        self.Players = Players\n",
    "        self.played = []\n",
    "        self.pot = 0\n",
    "    \n",
    "    def take_card(self):\n",
    "        card = rand.choice(self.deck)\n",
    "        self.deck.remove(card)\n",
    "        return card\n",
    "    \n",
    "    def preflop(self):\n",
    "        for player in self.Players:\n",
    "            player.cards = [self.take_card(), self.take_card()]\n",
    "        \n",
    "    def flop(self):\n",
    "        cs = [self.take_card(), self.take_card(), self.take_card()]\n",
    "        self.played = cs\n",
    "        return cs\n",
    "\n",
    "    def turn(self):\n",
    "        cs = [self.take_card()]\n",
    "        self.played += cs\n",
    "        return cs\n",
    "\n",
    "    def river(self):\n",
    "        cs = [self.take_card()]\n",
    "        self.played += cs\n",
    "        return cs\n",
    "        \n",
    "            \n",
    "def betting(ps):\n",
    "    previous = 0\n",
    "    for p in ps:\n",
    "        bet = int(input(f'what would you like to bet with {p.cards} and {p.stack}. the previous player bet {previous} ? '))\n",
    "        while bet< previous:\n",
    "            bet = int(input('please bet more or as much as the previous'))\n",
    "        p.bet(bet)\n",
    "        d1.pot += bet\n",
    "        \n",
    "        \n",
    "        \n",
    "        \n",
    "ps = [Player() for i in range(3)]       \n",
    "        \n",
    "d1 = dealer(ps)\n",
    "d1.preflop()\n",
    "for p in ps:\n",
    "    print(p.cards)\n",
    "\n",
    "betting(ps)\n",
    "print(d1.pot)\n",
    "\n",
    "print('-------------------------------------')\n",
    "d1.flop()\n"
   ]
  }
 ],
 "metadata": {
  "kernelspec": {
   "display_name": "Python 3",
   "language": "python",
   "name": "python3"
  },
  "language_info": {
   "codemirror_mode": {
    "name": "ipython",
    "version": 3
   },
   "file_extension": ".py",
   "mimetype": "text/x-python",
   "name": "python",
   "nbconvert_exporter": "python",
   "pygments_lexer": "ipython3",
   "version": "3.12.0"
  },
  "orig_nbformat": 4
 },
 "nbformat": 4,
 "nbformat_minor": 2
}
