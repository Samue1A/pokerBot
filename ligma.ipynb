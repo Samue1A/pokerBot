{
 "cells": [
  {
   "cell_type": "code",
   "execution_count": 29,
   "metadata": {},
   "outputs": [
    {
     "name": "stdout",
     "output_type": "stream",
     "text": [
      "Note: you may need to restart the kernel to use updated packages.\n"
     ]
    },
    {
     "name": "stderr",
     "output_type": "stream",
     "text": [
      "ERROR: Could not find a version that satisfies the requirement pokerkit==2024.3.0 (from versions: 0.0.0, 0.0.1, 0.0.2, 0.1.0, 0.1.1, 0.2.0, 0.2.1, 0.3.0, 0.3.1, 0.3.2, 0.4.0, 0.4.1, 0.4.2, 0.4.3, 0.4.4, 0.4.5, 0.4.6, 0.4.7, 0.4.8, 0.4.9, 0.4.10, 0.4.11, 0.4.12, 0.4.13, 0.4.14, 0.4.15, 0.4.16, 0.4.17, 0.5.0a0, 0.5.0a1, 0.5.0, 0.5.1, 0.5.2, 0.5.3, 0.5.4, 0.6.0a0, 0.6.0, 0.6.1, 0.6.2, 0.6.3)\n",
      "ERROR: No matching distribution found for pokerkit==2024.3.0\n"
     ]
    }
   ],
   "source": [
    "%pip install pokerkit==2024.3.0"
   ]
  },
  {
   "cell_type": "code",
   "execution_count": 16,
   "metadata": {},
   "outputs": [],
   "source": [
    "from pokerkit import *"
   ]
  },
  {
   "cell_type": "code",
   "execution_count": 17,
   "metadata": {},
   "outputs": [],
   "source": [
    "from random import sample\n",
    "from itertools import product, combinations\n",
    "import copy\n"
   ]
  },
  {
   "cell_type": "code",
   "execution_count": 18,
   "metadata": {},
   "outputs": [],
   "source": [
    "from concurrent.futures import ProcessPoolExecutor\n",
    "\n",
    "def oddsCalc(cards, board): #'AsKs', 'Kc8h8d'\n",
    "    with ProcessPoolExecutor() as executor:\n",
    "        return calculate_hand_strength(2, parse_range(cards),Card.parse(board), 2,  5, Deck.STANDARD, (StandardHighHand,), sample_count=2000, executor=executor,)"
   ]
  },
  {
   "cell_type": "code",
   "execution_count": 19,
   "metadata": {},
   "outputs": [
    {
     "data": {
      "text/plain": [
       "1.0"
      ]
     },
     "execution_count": 19,
     "metadata": {},
     "output_type": "execute_result"
    }
   ],
   "source": [
    "oddsCalc('AsAd', 'AhAc2c2d6h')"
   ]
  },
  {
   "cell_type": "code",
   "execution_count": 20,
   "metadata": {},
   "outputs": [],
   "source": [
    "def Nstreet(board):\n",
    "    #returns number of street we at\n",
    "    girth = len(board)/2\n",
    "    return 3 - (girth>=3) - (girth>=4)\n",
    "    "
   ]
  },
  {
   "cell_type": "code",
   "execution_count": 21,
   "metadata": {},
   "outputs": [],
   "source": [
    "from math import *\n",
    "def move(cards, board, stack, pot, aggressivity_index=1, odds_manual=None):\n",
    "    #Allows custom odds to test\n",
    "    if odds_manual != None:\n",
    "        odds = odds_manual\n",
    "    else:\n",
    "        odds = oddsCalc(cards, board)\n",
    "    print(odds)\n",
    "    \n",
    "    #ensures no division by 0 (if odds 50/50 (1-2*odds)=0)\n",
    "    if (1-2*odds):\n",
    "        tl = -pot + 2*stack*odds - stack\n",
    "        tr = (pot**2 + 2*pot*stack + stack**2*(1-2*odds)**2)**0.5\n",
    "        kelly_solutions = (tl +tr)/2, (tl-tr)/2\n",
    "    else:\n",
    "        kelly_solutions = -1, -1\n",
    "    \n",
    "    #finds max call+bet using kelly solutions\n",
    "    callMax = (-(pot+stack-2*odds*stack)+((pot+stack-2*odds*stack)**2+4*odds*pot*stack)**0.5)/2  #, (-(pot+stack-2*odds*stack)-((pot+stack-2*odds*stack)**2+4*odds*pot*stack)**0.5)/2\n",
    "    if kelly_solutions[0] + kelly_solutions[1] > 0:\n",
    "        print(kelly_solutions)\n",
    "        bet = round(kelly_solutions[0])\n",
    "        # EV version: bet, callMax = round(kelly_solutions[0]), inf\n",
    "    else:\n",
    "        bet = 0\n",
    "        # EV version: bet, callMax = 0, floor((odds*pot)/(1-2*odds))\n",
    "    print(kelly_solutions)\n",
    "    return aggressivity_index*bet, aggressivity_index*callMax/Nstreet(board) #is this the correct move? should i divide by the street? should i leave bet intact?\n"
   ]
  },
  {
   "cell_type": "code",
   "execution_count": 17,
   "metadata": {},
   "outputs": [
    {
     "data": {
      "text/plain": [
       "3"
      ]
     },
     "execution_count": 17,
     "metadata": {},
     "output_type": "execute_result"
    }
   ],
   "source": [
    "board = '9hTs9s'\n",
    "\n",
    "Nstreet(board)\n",
    "\n",
    "\n",
    "    "
   ]
  },
  {
   "cell_type": "code",
   "execution_count": 20,
   "metadata": {},
   "outputs": [
    {
     "name": "stdout",
     "output_type": "stream",
     "text": [
      "0.35525\n",
      "(18.270351544518277, -97.22035154451828)\n",
      "(0.0, 3.0450525006358657)\n"
     ]
    }
   ],
   "source": [
    "print(move('7c2s', '', 100, 50, .499999))\n",
    "#something is broken"
   ]
  },
  {
   "cell_type": "code",
   "execution_count": null,
   "metadata": {},
   "outputs": [
    {
     "data": {
      "text/plain": [
       "(0.08346082519307174, -599.083460825193)"
      ]
     },
     "execution_count": 35,
     "metadata": {},
     "output_type": "execute_result"
    }
   ],
   "source": [
    "o = 0.001\n",
    "p = 100\n",
    "s = 500\n",
    "\n",
    "b0, b1 = (-(p+s-2*o*s)+((p+s-2*o*s)**2+4*o*p*s)**0.5)/2, (-(p+s-2*o*s)-((p+s-2*o*s)**2+4*o*p*s)**0.5)/2\n",
    "b0, b1"
   ]
  },
  {
   "cell_type": "code",
   "execution_count": null,
   "metadata": {},
   "outputs": [],
   "source": []
  },
  {
   "cell_type": "code",
   "execution_count": 5,
   "metadata": {},
   "outputs": [],
   "source": [
    "import tkinter as tk\n",
    "from tkinter import simpledialog, messagebox\n",
    "from pokerkit import NoLimitTexasHoldem, Automation\n",
    "\n",
    "# Your bot function\n",
    "def move(hole, board, stack, pot):\n",
    "    return 50 if len(board) < 5 else 0  # Dummy logic\n",
    "\n",
    "class PokerGame:\n",
    "    def __init__(self, root):\n",
    "        self.root = root\n",
    "        self.root.title(\"PokerKit GUI Poker\")\n",
    "\n",
    "        self.automations = (\n",
    "            Automation.ANTE_POSTING,\n",
    "            Automation.BET_COLLECTION,\n",
    "            Automation.BLIND_OR_STRADDLE_POSTING,\n",
    "            Automation.CARD_BURNING,\n",
    "            Automation.HOLE_CARDS_SHOWING_OR_MUCKING,\n",
    "            Automation.HAND_KILLING,\n",
    "            Automation.CHIPS_PUSHING,\n",
    "            Automation.CHIPS_PULLING,\n",
    "        )\n",
    "\n",
    "        self.setup_gui()\n",
    "        self.root.after(100, self.new_game)  # Delay game start\n",
    "\n",
    "    def setup_gui(self):\n",
    "        self.status = tk.Label(self.root, text=\"\", font=(\"Arial\", 14))\n",
    "        self.status.pack()\n",
    "\n",
    "        self.hand_label = tk.Label(self.root, text=\"Your Hand: \", font=(\"Arial\", 16))\n",
    "        self.hand_label.pack()\n",
    "\n",
    "        self.board_label = tk.Label(self.root, text=\"Board: \", font=(\"Arial\", 16))\n",
    "        self.board_label.pack()\n",
    "\n",
    "        self.stack_label = tk.Label(self.root, text=\"\", font=(\"Arial\", 14))\n",
    "        self.stack_label.pack()\n",
    "\n",
    "        frame = tk.Frame(self.root)\n",
    "        frame.pack(pady=10)\n",
    "\n",
    "        self.btn_check = tk.Button(frame, text=\"Check\", command=self.check)\n",
    "        self.btn_bet = tk.Button(frame, text=\"Bet\", command=self.bet)\n",
    "        self.btn_call = tk.Button(frame, text=\"Call\", command=self.call)\n",
    "        self.btn_fold = tk.Button(frame, text=\"Fold\", command=self.fold)\n",
    "\n",
    "        self.btn_check.pack(side=tk.LEFT, padx=5)\n",
    "        self.btn_bet.pack(side=tk.LEFT, padx=5)\n",
    "        self.btn_call.pack(side=tk.LEFT, padx=5)\n",
    "        self.btn_fold.pack(side=tk.LEFT, padx=5)\n",
    "\n",
    "    def new_game(self):\n",
    "        self.state = NoLimitTexasHoldem.create_state(\n",
    "            self.automations,\n",
    "            False,\n",
    "            0,\n",
    "            (5, 10),\n",
    "            10,\n",
    "            (1000, 1000),\n",
    "            2,\n",
    "        )\n",
    "\n",
    "        # Deal 2 hole cards to each player\n",
    "        for _ in range(2):\n",
    "            for _ in range(self.state.player_count):\n",
    "                self.state.deal_hole()\n",
    "\n",
    "        self.advance_until_action()\n",
    "\n",
    "    def advance_all_the_way(self):\n",
    "        while self.state.status == \"chance\":\n",
    "            self.state.proceed()\n",
    "\n",
    "    def advance_until_action(self):\n",
    "        self.advance_all_the_way()\n",
    "        self.update_gui()\n",
    "        self.next_action()\n",
    "\n",
    "    def update_gui(self):\n",
    "        board = ''.join(str(card) for card in self.state.board_cards)\n",
    "        hole = ''.join(str(card) for card in self.state.hole_cards[0]) if self.state.hole_cards and self.state.hole_cards[0] else 'Waiting...'\n",
    "        pot = sum(self.state.bets)\n",
    "        stacks = self.state.stacks\n",
    "\n",
    "        self.hand_label.config(text=f\"Your Hand: {hole}\")\n",
    "        self.board_label.config(text=f\"Board: {board}\")\n",
    "        self.stack_label.config(text=f\"Pot: {pot} | You: {stacks[0]} | Bot: {stacks[1]}\")\n",
    "        self.status.config(text=f\"{'Your' if self.state.actor_index == 0 else 'Bot'} turn\")\n",
    "\n",
    "    def disable_all(self):\n",
    "        for b in [self.btn_check, self.btn_bet, self.btn_call, self.btn_fold]:\n",
    "            b.config(state=tk.DISABLED)\n",
    "\n",
    "    def enable_buttons(self):\n",
    "        self.btn_check.config(state=tk.NORMAL if self.state.can_check_or_call() else tk.DISABLED)\n",
    "        self.btn_bet.config(state=tk.NORMAL if self.state.can_complete_bet_or_raise_to() else tk.DISABLED)\n",
    "        self.btn_call.config(state=tk.NORMAL if self.state.can_check_or_call() else tk.DISABLED)\n",
    "        self.btn_fold.config(state=tk.NORMAL if self.state.can_fold() else tk.DISABLED)\n",
    "\n",
    "    def next_action(self):\n",
    "        if self.state.status == 'over':\n",
    "            hand_0 = self.state.hands[0]\n",
    "            hand_1 = self.state.hands[1]\n",
    "            board = self.state.board_cards\n",
    "\n",
    "            val_0 = hand_0.evaluate_hand(board)\n",
    "            val_1 = hand_1.evaluate_hand(board)\n",
    "\n",
    "            if val_0 > val_1:\n",
    "                result = \"You win!\"\n",
    "            elif val_1 > val_0:\n",
    "                result = \"Bot wins!\"\n",
    "            else:\n",
    "                result = \"It's a tie!\"\n",
    "\n",
    "            messagebox.showinfo(\"Hand Over\", result)\n",
    "            self.root.after(1000, self.new_game)\n",
    "            return\n",
    "\n",
    "        if self.state.actor_index == 1:\n",
    "            self.disable_all()\n",
    "            self.root.after(500, self.bot_action)\n",
    "        else:\n",
    "            self.enable_buttons()\n",
    "\n",
    "    def check(self):\n",
    "        self.state.check_or_call()\n",
    "        self.advance_until_action()\n",
    "\n",
    "    def bet(self):\n",
    "        max_bet = self.state.stacks[0]\n",
    "        amount = simpledialog.askinteger(\"Bet\", \"How much?\", minvalue=1, maxvalue=max_bet)\n",
    "        if amount:\n",
    "            self.state.complete_bet_or_raise_to(amount)\n",
    "            self.advance_until_action()\n",
    "\n",
    "    def call(self):\n",
    "        self.state.check_or_call()\n",
    "        self.advance_until_action()\n",
    "\n",
    "    def fold(self):\n",
    "        self.state.fold()\n",
    "        self.advance_until_action()\n",
    "\n",
    "    def bot_action(self):\n",
    "        hole = ''.join(str(c) for c in self.state.hole_cards[1])\n",
    "        board = ''.join(str(c) for c in self.state.board_cards)\n",
    "        stack = self.state.stacks[1]\n",
    "        pot = sum(self.state.bets)\n",
    "        amount = move(hole, board, stack, pot)\n",
    "\n",
    "        try:\n",
    "            if amount == 0 and self.state.can_check_or_call():\n",
    "                self.state.check_or_call()\n",
    "            elif amount > 0 and self.state.can_complete_bet_or_raise_to():\n",
    "                self.state.complete_bet_or_raise_to(amount)\n",
    "            elif self.state.can_check_or_call():\n",
    "                self.state.check_or_call()\n",
    "            elif self.state.can_fold():\n",
    "                self.state.fold()\n",
    "        except Exception as e:\n",
    "            print(f\"Bot error: {e}\")\n",
    "            self.state.fold()\n",
    "\n",
    "        self.advance_until_action()\n",
    "\n",
    "# Run GUI\n",
    "root = tk.Tk()\n",
    "app = PokerGame(root)\n",
    "root.mainloop()\n"
   ]
  },
  {
   "cell_type": "code",
   "execution_count": null,
   "metadata": {},
   "outputs": [],
   "source": [
    "#add agressivity index\n",
    "#include check percentage\n",
    "#adjust to a per street basis cuz this is same as assuming opponent goes all in everytime"
   ]
  }
 ],
 "metadata": {
  "kernelspec": {
   "display_name": "Python 3",
   "language": "python",
   "name": "python3"
  },
  "language_info": {
   "codemirror_mode": {
    "name": "ipython",
    "version": 3
   },
   "file_extension": ".py",
   "mimetype": "text/x-python",
   "name": "python",
   "nbconvert_exporter": "python",
   "pygments_lexer": "ipython3",
   "version": "3.12.1"
  }
 },
 "nbformat": 4,
 "nbformat_minor": 2
}
