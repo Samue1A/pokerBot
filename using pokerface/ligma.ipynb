{
 "cells": [
  {
   "cell_type": "code",
   "execution_count": 2,
   "metadata": {},
   "outputs": [
    {
     "name": "stdout",
     "output_type": "stream",
     "text": [
      "Defaulting to user installation because normal site-packages is not writeable\n",
      "Requirement already satisfied: pokerkit in c:\\users\\samuel.aron\\appdata\\roaming\\python\\python312\\site-packages (0.6.3)\n",
      "Note: you may need to restart the kernel to use updated packages.\n"
     ]
    },
    {
     "name": "stderr",
     "output_type": "stream",
     "text": [
      "\n",
      "[notice] A new release of pip is available: 23.2.1 -> 25.0.1\n",
      "[notice] To update, run: python.exe -m pip install --upgrade pip\n"
     ]
    }
   ],
   "source": [
    "%pip install pokerkit"
   ]
  },
  {
   "cell_type": "code",
   "execution_count": 3,
   "metadata": {},
   "outputs": [],
   "source": [
    "from pokerkit import *"
   ]
  },
  {
   "cell_type": "code",
   "execution_count": 4,
   "metadata": {},
   "outputs": [],
   "source": [
    "from random import sample\n",
    "from itertools import product, combinations\n",
    "import copy\n"
   ]
  },
  {
   "cell_type": "code",
   "execution_count": 5,
   "metadata": {},
   "outputs": [],
   "source": [
    "from concurrent.futures import ProcessPoolExecutor\n",
    "\n",
    "def oddsCalc(cards, board): #'AsKs', 'Kc8h8d'\n",
    "    with ProcessPoolExecutor() as executor:\n",
    "        return calculate_hand_strength(2, parse_range(cards),Card.parse(board), 2,  5, Deck.STANDARD, (StandardHighHand,), sample_count=2000, executor=executor,)"
   ]
  },
  {
   "cell_type": "code",
   "execution_count": null,
   "metadata": {},
   "outputs": [
    {
     "data": {
      "text/plain": [
       "1.0"
      ]
     },
     "execution_count": 6,
     "metadata": {},
     "output_type": "execute_result"
    }
   ],
   "source": [
    "oddsCalc('AsAd', 'AhAc2c2d6h')"
   ]
  },
  {
   "cell_type": "code",
   "execution_count": 46,
   "metadata": {},
   "outputs": [],
   "source": [
    "def Nstreet(board):\n",
    "    #returns number of street we at\n",
    "    girth = len(board)/2\n",
    "    return (girth>=3) + (girth>=4) + (girth==5)\n",
    "    "
   ]
  },
  {
   "cell_type": "code",
   "execution_count": null,
   "metadata": {},
   "outputs": [],
   "source": [
    "from math import *\n",
    "def move(cards, board, stack, pot, aggressivity_index=1, odds_manual=None):\n",
    "    #Allows custom odds to test\n",
    "    if odds_manual != None:\n",
    "        odds = odds_manual\n",
    "    else:\n",
    "        odds = oddsCalc(cards, board)\n",
    "    print(odds)\n",
    "    \n",
    "    #ensures no division by 0 (if odds 50/50 (1-2*odds)=0)\n",
    "    if (1-2*odds):\n",
    "        tl = -pot + 2*stack*odds - stack\n",
    "        tr = (pot**2 + 2*pot*stack + stack**2*(1-2*odds)**2)**0.5\n",
    "        kelly_solutions = (tl +tr)/2, (tl-tr)/2\n",
    "    else:\n",
    "        kelly_solutions = -1, -1\n",
    "    \n",
    "    #finds max call+bet using kelly solutions\n",
    "    callMax = (-(pot+stack-2*odds*stack)+((pot+stack-2*odds*stack)**2+4*odds*pot*stack)**0.5)/2  #, (-(pot+stack-2*odds*stack)-((pot+stack-2*odds*stack)**2+4*odds*pot*stack)**0.5)/2\n",
    "    if kelly_solutions[0] + kelly_solutions[1] > 0:\n",
    "        print(kelly_solutions)\n",
    "        bet = round(kelly_solutions[0])\n",
    "        # EV version: bet, callMax = round(kelly_solutions[0]), inf\n",
    "    else:\n",
    "        bet = 0\n",
    "        # EV version: bet, callMax = 0, floor((odds*pot)/(1-2*odds))\n",
    "    print(kelly_solutions)\n",
    "    return aggressivity_index*bet, aggressivity_index*callMax/Nstreet(board) #is this the correct move? should i divide by the street? should i leave bet intact?\n"
   ]
  },
  {
   "cell_type": "code",
   "execution_count": 47,
   "metadata": {},
   "outputs": [
    {
     "data": {
      "text/plain": [
       "1"
      ]
     },
     "execution_count": 47,
     "metadata": {},
     "output_type": "execute_result"
    }
   ],
   "source": [
    "board = '9hTs9s'\n",
    "\n",
    "Nstreet(board)\n",
    "\n",
    "\n",
    "    "
   ]
  },
  {
   "cell_type": "code",
   "execution_count": 38,
   "metadata": {},
   "outputs": [
    {
     "name": "stdout",
     "output_type": "stream",
     "text": [
      "0.499999\n",
      "(30.90159943758419, -80.90179943758417)\n",
      "(0, 30.90159943758419)\n"
     ]
    }
   ],
   "source": [
    "print(move('7c2s', '', 100, 50, .499999))\n",
    "#something is broken"
   ]
  },
  {
   "cell_type": "code",
   "execution_count": null,
   "metadata": {},
   "outputs": [
    {
     "data": {
      "text/plain": [
       "(0.08346082519307174, -599.083460825193)"
      ]
     },
     "execution_count": 35,
     "metadata": {},
     "output_type": "execute_result"
    }
   ],
   "source": [
    "o = 0.001\n",
    "p = 100\n",
    "s = 500\n",
    "\n",
    "b0, b1 = (-(p+s-2*o*s)+((p+s-2*o*s)**2+4*o*p*s)**0.5)/2, (-(p+s-2*o*s)-((p+s-2*o*s)**2+4*o*p*s)**0.5)/2\n",
    "b0, b1"
   ]
  },
  {
   "cell_type": "code",
   "execution_count": 58,
   "metadata": {},
   "outputs": [
    {
     "ename": "AttributeError",
     "evalue": "'State' object has no attribute 'board'",
     "output_type": "error",
     "traceback": [
      "\u001b[31m---------------------------------------------------------------------------\u001b[39m",
      "\u001b[31mAttributeError\u001b[39m                            Traceback (most recent call last)",
      "\u001b[36mCell\u001b[39m\u001b[36m \u001b[39m\u001b[32mIn[58]\u001b[39m\u001b[32m, line 150\u001b[39m\n\u001b[32m    148\u001b[39m \u001b[38;5;66;03m# Launch GUI\u001b[39;00m\n\u001b[32m    149\u001b[39m root = tk.Tk()\n\u001b[32m--> \u001b[39m\u001b[32m150\u001b[39m app = \u001b[43mPokerGame\u001b[49m\u001b[43m(\u001b[49m\u001b[43mroot\u001b[49m\u001b[43m)\u001b[49m\n\u001b[32m    151\u001b[39m root.mainloop()\n",
      "\u001b[36mCell\u001b[39m\u001b[36m \u001b[39m\u001b[32mIn[58]\u001b[39m\u001b[32m, line 37\u001b[39m, in \u001b[36mPokerGame.__init__\u001b[39m\u001b[34m(self, root)\u001b[39m\n\u001b[32m     35\u001b[39m \u001b[38;5;28mself\u001b[39m.setup_gui()\n\u001b[32m     36\u001b[39m \u001b[38;5;28mself\u001b[39m.state.deal_hole()\n\u001b[32m---> \u001b[39m\u001b[32m37\u001b[39m \u001b[38;5;28;43mself\u001b[39;49m\u001b[43m.\u001b[49m\u001b[43mupdate_gui\u001b[49m\u001b[43m(\u001b[49m\u001b[43m)\u001b[49m\n\u001b[32m     38\u001b[39m \u001b[38;5;28mself\u001b[39m.next_action()\n",
      "\u001b[36mCell\u001b[39m\u001b[36m \u001b[39m\u001b[32mIn[58]\u001b[39m\u001b[32m, line 67\u001b[39m, in \u001b[36mPokerGame.update_gui\u001b[39m\u001b[34m(self)\u001b[39m\n\u001b[32m     66\u001b[39m \u001b[38;5;28;01mdef\u001b[39;00m\u001b[38;5;250m \u001b[39m\u001b[34mupdate_gui\u001b[39m(\u001b[38;5;28mself\u001b[39m):\n\u001b[32m---> \u001b[39m\u001b[32m67\u001b[39m     board = \u001b[33m'\u001b[39m\u001b[33m'\u001b[39m.join(\u001b[38;5;28mstr\u001b[39m(card) \u001b[38;5;28;01mfor\u001b[39;00m card \u001b[38;5;129;01min\u001b[39;00m \u001b[38;5;28;43mself\u001b[39;49m\u001b[43m.\u001b[49m\u001b[43mstate\u001b[49m\u001b[43m.\u001b[49m\u001b[43mboard\u001b[49m)\n\u001b[32m     68\u001b[39m     hole = \u001b[33m'\u001b[39m\u001b[33m'\u001b[39m.join(\u001b[38;5;28mstr\u001b[39m(card) \u001b[38;5;28;01mfor\u001b[39;00m card \u001b[38;5;129;01min\u001b[39;00m \u001b[38;5;28mself\u001b[39m.state.hole_cards[\u001b[32m0\u001b[39m])\n\u001b[32m     69\u001b[39m     pot = \u001b[38;5;28mself\u001b[39m.state.pot\n",
      "\u001b[31mAttributeError\u001b[39m: 'State' object has no attribute 'board'"
     ]
    }
   ],
   "source": [
    "import tkinter as tk\n",
    "from tkinter import simpledialog, messagebox\n",
    "from pokerkit import NoLimitTexasHoldem, Automation\n",
    "import random\n",
    "\n",
    "# --- Your bot logic ---\n",
    "def move(hole, board, stack):\n",
    "    return 50 if len(board) < 5 else 0  # Replace with real bot logic\n",
    "\n",
    "class PokerGame:\n",
    "    def __init__(self, root):\n",
    "        self.root = root\n",
    "        self.root.title(\"PokerKit GUI Poker\")\n",
    "\n",
    "        # PokerKit pre-defined game\n",
    "        self.state = NoLimitTexasHoldem.create_state(\n",
    "            (\n",
    "                Automation.ANTE_POSTING,\n",
    "                Automation.BET_COLLECTION,\n",
    "                Automation.BLIND_OR_STRADDLE_POSTING,\n",
    "                Automation.CARD_BURNING,\n",
    "                Automation.HOLE_CARDS_SHOWING_OR_MUCKING,\n",
    "                Automation.HAND_KILLING,\n",
    "                Automation.CHIPS_PUSHING,\n",
    "                Automation.CHIPS_PULLING,\n",
    "            ),\n",
    "            False,\n",
    "            0,\n",
    "            (5, 10),\n",
    "            10,\n",
    "            (1000, 1000),\n",
    "            2,\n",
    "        )\n",
    "\n",
    "        self.setup_gui()\n",
    "        self.state.deal_hole()\n",
    "        self.update_gui()\n",
    "        self.next_action()\n",
    "\n",
    "    def setup_gui(self):\n",
    "        self.status = tk.Label(self.root, text=\"\", font=(\"Arial\", 14))\n",
    "        self.status.pack()\n",
    "\n",
    "        self.hand_label = tk.Label(self.root, text=\"Your Hand: \", font=(\"Arial\", 16))\n",
    "        self.hand_label.pack()\n",
    "\n",
    "        self.board_label = tk.Label(self.root, text=\"Board: \", font=(\"Arial\", 16))\n",
    "        self.board_label.pack()\n",
    "\n",
    "        self.stack_label = tk.Label(self.root, text=\"\", font=(\"Arial\", 14))\n",
    "        self.stack_label.pack()\n",
    "\n",
    "        frame = tk.Frame(self.root)\n",
    "        frame.pack(pady=10)\n",
    "\n",
    "        self.btn_check = tk.Button(frame, text=\"Check\", command=self.check)\n",
    "        self.btn_bet = tk.Button(frame, text=\"Bet\", command=self.bet)\n",
    "        self.btn_call = tk.Button(frame, text=\"Call\", command=self.call)\n",
    "        self.btn_fold = tk.Button(frame, text=\"Fold\", command=self.fold)\n",
    "\n",
    "        self.btn_check.pack(side=tk.LEFT, padx=5)\n",
    "        self.btn_bet.pack(side=tk.LEFT, padx=5)\n",
    "        self.btn_call.pack(side=tk.LEFT, padx=5)\n",
    "        self.btn_fold.pack(side=tk.LEFT, padx=5)\n",
    "\n",
    "    def update_gui(self):\n",
    "        board = ''.join(str(card) for card in self.state.board)\n",
    "        hole = ''.join(str(card) for card in self.state.hole_cards[0])\n",
    "        pot = self.state.pot\n",
    "        stacks = self.state.stacks\n",
    "\n",
    "        self.hand_label.config(text=f\"Your Hand: {hole}\")\n",
    "        self.board_label.config(text=f\"Board: {board}\")\n",
    "        self.stack_label.config(text=f\"Pot: {pot} | You: {stacks[0]} | Bot: {stacks[1]}\")\n",
    "        self.status.config(text=f\"{'Your' if self.state.next_player == 0 else 'Bot'} turn\")\n",
    "\n",
    "    def disable_all(self):\n",
    "        for b in [self.btn_check, self.btn_bet, self.btn_call, self.btn_fold]:\n",
    "            b.config(state=tk.DISABLED)\n",
    "\n",
    "    def enable_buttons(self, actions):\n",
    "        self.btn_check.config(state=tk.NORMAL if 'Check' in actions else tk.DISABLED)\n",
    "        self.btn_bet.config(state=tk.NORMAL if 'CompleteBettingOrRaisingTo' in actions else tk.DISABLED)\n",
    "        self.btn_call.config(state=tk.NORMAL if 'CheckOrCall' in actions else tk.DISABLED)\n",
    "        self.btn_fold.config(state=tk.NORMAL if 'Fold' in actions else tk.DISABLED)\n",
    "\n",
    "    def next_action(self):\n",
    "        self.update_gui()\n",
    "\n",
    "        if self.state.is_hand_over:\n",
    "            winners = self.state.winners\n",
    "            messagebox.showinfo(\"Hand Over\", f\"Winners: {winners}\")\n",
    "            self.state.start_hand()\n",
    "            self.state.deal_hole()\n",
    "            self.update_gui()\n",
    "            self.next_action()\n",
    "            return\n",
    "\n",
    "        if self.state.next_player == 1:\n",
    "            self.disable_all()\n",
    "            self.root.after(500, self.bot_action)\n",
    "        else:\n",
    "            legal = {a.name for a in self.state.legal_actions}\n",
    "            self.enable_buttons(legal)\n",
    "\n",
    "    def check(self):\n",
    "        self.state.check()\n",
    "        self.next_action()\n",
    "\n",
    "    def bet(self):\n",
    "        max_bet = self.state.stacks[0]\n",
    "        amount = simpledialog.askinteger(\"Bet\", \"How much?\", minvalue=1, maxvalue=max_bet)\n",
    "        if amount:\n",
    "            self.state.complete_bet_or_raise_to(amount)\n",
    "            self.next_action()\n",
    "\n",
    "    def call(self):\n",
    "        self.state.check_or_call()\n",
    "        self.next_action()\n",
    "\n",
    "    def fold(self):\n",
    "        self.state.fold()\n",
    "        self.next_action()\n",
    "\n",
    "    def bot_action(self):\n",
    "        hole = ''.join(str(c) for c in self.state.hole_cards[1])\n",
    "        board = ''.join(str(c) for c in self.state.board)\n",
    "        stack = self.state.stacks[1]\n",
    "        amount = move(hole, board, stack)\n",
    "\n",
    "        legal = {a.name for a in self.state.legal_actions}\n",
    "\n",
    "        try:\n",
    "            if amount == 0 and 'Check' in legal:\n",
    "                self.state.check()\n",
    "            elif amount > 0 and 'CompleteBettingOrRaisingTo' in legal:\n",
    "                self.state.complete_bet_or_raise_to(amount)\n",
    "            elif 'CheckOrCall' in legal:\n",
    "                self.state.check_or_call()\n",
    "            else:\n",
    "                self.state.fold()\n",
    "        except Exception as e:\n",
    "            print(f\"Bot error: {e}\")\n",
    "            self.state.fold()\n",
    "\n",
    "        self.next_action()\n",
    "\n",
    "# Launch GUI\n",
    "root = tk.Tk()\n",
    "app = PokerGame(root)\n",
    "root.mainloop()"
   ]
  },
  {
   "cell_type": "code",
   "execution_count": null,
   "metadata": {},
   "outputs": [],
   "source": [
    "#add agressivity index\n",
    "#include check percentage\n",
    "#adjust to a per street basis cuz this is same as assuming opponent goes all in everytime"
   ]
  }
 ],
 "metadata": {
  "kernelspec": {
   "display_name": "Python 3",
   "language": "python",
   "name": "python3"
  },
  "language_info": {
   "codemirror_mode": {
    "name": "ipython",
    "version": 3
   },
   "file_extension": ".py",
   "mimetype": "text/x-python",
   "name": "python",
   "nbconvert_exporter": "python",
   "pygments_lexer": "ipython3",
   "version": "3.12.0"
  }
 },
 "nbformat": 4,
 "nbformat_minor": 2
}
