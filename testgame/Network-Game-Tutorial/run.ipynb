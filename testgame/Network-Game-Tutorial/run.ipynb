{
 "cells": [
  {
   "cell_type": "code",
   "execution_count": 2,
   "metadata": {},
   "outputs": [
    {
     "name": "stdout",
     "output_type": "stream",
     "text": [
      "Defaulting to user installation because normal site-packages is not writeable\n",
      "Collecting pygame\n",
      "  Obtaining dependency information for pygame from https://files.pythonhosted.org/packages/5f/90/7d766d54bb95939725e9a9361f9c06b0cfbe3fe100aa35400f0a461a278a/pygame-2.6.1-cp312-cp312-win_amd64.whl.metadata\n",
      "  Downloading pygame-2.6.1-cp312-cp312-win_amd64.whl.metadata (13 kB)\n",
      "Downloading pygame-2.6.1-cp312-cp312-win_amd64.whl (10.6 MB)\n",
      "   ---------------------------------------- 0.0/10.6 MB ? eta -:--:--\n",
      "   ---------------------------------------- 0.0/10.6 MB ? eta -:--:--\n",
      "   ---------------------------------------- 0.1/10.6 MB 812.7 kB/s eta 0:00:13\n",
      "   - -------------------------------------- 0.4/10.6 MB 3.2 MB/s eta 0:00:04\n",
      "   --- ------------------------------------ 0.8/10.6 MB 5.1 MB/s eta 0:00:02\n",
      "   ----- ---------------------------------- 1.4/10.6 MB 7.0 MB/s eta 0:00:02\n",
      "   -------- ------------------------------- 2.3/10.6 MB 9.1 MB/s eta 0:00:01\n",
      "   ------------ --------------------------- 3.4/10.6 MB 11.5 MB/s eta 0:00:01\n",
      "   ------------------ --------------------- 4.9/10.6 MB 14.3 MB/s eta 0:00:01\n",
      "   ------------------------ --------------- 6.6/10.6 MB 16.7 MB/s eta 0:00:01\n",
      "   ------------------------------ --------- 8.1/10.6 MB 18.6 MB/s eta 0:00:01\n",
      "   ------------------------------------ --- 9.7/10.6 MB 20.0 MB/s eta 0:00:01\n",
      "   ---------------------------------------  10.6/10.6 MB 26.2 MB/s eta 0:00:01\n",
      "   ---------------------------------------- 10.6/10.6 MB 23.3 MB/s eta 0:00:00\n",
      "Installing collected packages: pygame\n",
      "Successfully installed pygame-2.6.1\n"
     ]
    },
    {
     "name": "stderr",
     "output_type": "stream",
     "text": [
      "\n",
      "[notice] A new release of pip is available: 23.2.1 -> 25.0\n",
      "[notice] To update, run: python.exe -m pip install --upgrade pip\n"
     ]
    }
   ],
   "source": [
    "!pip install pygame"
   ]
  },
  {
   "cell_type": "code",
   "execution_count": 1,
   "metadata": {},
   "outputs": [
    {
     "name": "stdout",
     "output_type": "stream",
     "text": [
      "pygame 2.6.1 (SDL 2.28.4, Python 3.12.0)\n",
      "Hello from the pygame community. https://www.pygame.org/contribute.html\n"
     ]
    },
    {
     "ename": "ConnectionRefusedError",
     "evalue": "[WinError 10061] No connection could be made because the target machine actively refused it",
     "output_type": "error",
     "traceback": [
      "\u001b[1;31m---------------------------------------------------------------------------\u001b[0m",
      "\u001b[1;31mConnectionRefusedError\u001b[0m                    Traceback (most recent call last)",
      "\u001b[1;32mc:\\Users\\samuel.aron\\Desktop\\IsssaMeMaaario\\testgame\\Network-Game-Tutorial\\run.ipynb Cell 2\u001b[0m line \u001b[0;36m4\n\u001b[0;32m      <a href='vscode-notebook-cell:/c%3A/Users/samuel.aron/Desktop/IsssaMeMaaario/testgame/Network-Game-Tutorial/run.ipynb#W1sZmlsZQ%3D%3D?line=0'>1</a>\u001b[0m \u001b[39mimport\u001b[39;00m \u001b[39mgame\u001b[39;00m\n\u001b[0;32m      <a href='vscode-notebook-cell:/c%3A/Users/samuel.aron/Desktop/IsssaMeMaaario/testgame/Network-Game-Tutorial/run.ipynb#W1sZmlsZQ%3D%3D?line=2'>3</a>\u001b[0m \u001b[39mif\u001b[39;00m \u001b[39m__name__\u001b[39m \u001b[39m==\u001b[39m \u001b[39m\"\u001b[39m\u001b[39m__main__\u001b[39m\u001b[39m\"\u001b[39m:\n\u001b[1;32m----> <a href='vscode-notebook-cell:/c%3A/Users/samuel.aron/Desktop/IsssaMeMaaario/testgame/Network-Game-Tutorial/run.ipynb#W1sZmlsZQ%3D%3D?line=3'>4</a>\u001b[0m     g \u001b[39m=\u001b[39m game\u001b[39m.\u001b[39;49mGame(\u001b[39m500\u001b[39;49m,\u001b[39m500\u001b[39;49m)\n\u001b[0;32m      <a href='vscode-notebook-cell:/c%3A/Users/samuel.aron/Desktop/IsssaMeMaaario/testgame/Network-Game-Tutorial/run.ipynb#W1sZmlsZQ%3D%3D?line=4'>5</a>\u001b[0m     g\u001b[39m.\u001b[39mrun()\n",
      "File \u001b[1;32mc:\\Users\\samuel.aron\\Desktop\\IsssaMeMaaario\\testgame\\Network-Game-Tutorial\\game.py:36\u001b[0m, in \u001b[0;36mGame.__init__\u001b[1;34m(self, w, h)\u001b[0m\n\u001b[0;32m     35\u001b[0m \u001b[39mdef\u001b[39;00m \u001b[39m__init__\u001b[39m(\u001b[39mself\u001b[39m, w, h):\n\u001b[1;32m---> 36\u001b[0m     \u001b[39mself\u001b[39m\u001b[39m.\u001b[39mnet \u001b[39m=\u001b[39m Network()\n\u001b[0;32m     37\u001b[0m     \u001b[39mself\u001b[39m\u001b[39m.\u001b[39mwidth \u001b[39m=\u001b[39m w\n\u001b[0;32m     38\u001b[0m     \u001b[39mself\u001b[39m\u001b[39m.\u001b[39mheight \u001b[39m=\u001b[39m h\n",
      "File \u001b[1;32mc:\\Users\\samuel.aron\\Desktop\\IsssaMeMaaario\\testgame\\Network-Game-Tutorial\\network.py:13\u001b[0m, in \u001b[0;36mNetwork.__init__\u001b[1;34m(self)\u001b[0m\n\u001b[0;32m     11\u001b[0m \u001b[39mself\u001b[39m\u001b[39m.\u001b[39mport \u001b[39m=\u001b[39m \u001b[39m5555\u001b[39m\n\u001b[0;32m     12\u001b[0m \u001b[39mself\u001b[39m\u001b[39m.\u001b[39maddr \u001b[39m=\u001b[39m (\u001b[39mself\u001b[39m\u001b[39m.\u001b[39mhost, \u001b[39mself\u001b[39m\u001b[39m.\u001b[39mport)\n\u001b[1;32m---> 13\u001b[0m \u001b[39mself\u001b[39m\u001b[39m.\u001b[39mid \u001b[39m=\u001b[39m \u001b[39mself\u001b[39;49m\u001b[39m.\u001b[39;49mconnect()\n",
      "File \u001b[1;32mc:\\Users\\samuel.aron\\Desktop\\IsssaMeMaaario\\testgame\\Network-Game-Tutorial\\network.py:16\u001b[0m, in \u001b[0;36mNetwork.connect\u001b[1;34m(self)\u001b[0m\n\u001b[0;32m     15\u001b[0m \u001b[39mdef\u001b[39;00m \u001b[39mconnect\u001b[39m(\u001b[39mself\u001b[39m):\n\u001b[1;32m---> 16\u001b[0m     \u001b[39mself\u001b[39;49m\u001b[39m.\u001b[39;49mclient\u001b[39m.\u001b[39;49mconnect(\u001b[39mself\u001b[39;49m\u001b[39m.\u001b[39;49maddr)\n\u001b[0;32m     17\u001b[0m     \u001b[39mreturn\u001b[39;00m \u001b[39mself\u001b[39m\u001b[39m.\u001b[39mclient\u001b[39m.\u001b[39mrecv(\u001b[39m2048\u001b[39m)\u001b[39m.\u001b[39mdecode()\n",
      "\u001b[1;31mConnectionRefusedError\u001b[0m: [WinError 10061] No connection could be made because the target machine actively refused it"
     ]
    }
   ],
   "source": [
    "import game\n",
    "\n",
    "if __name__ == \"__main__\":\n",
    "    g = game.Game(500,500)\n",
    "    g.run()"
   ]
  }
 ],
 "metadata": {
  "kernelspec": {
   "display_name": "Python 3",
   "language": "python",
   "name": "python3"
  },
  "language_info": {
   "codemirror_mode": {
    "name": "ipython",
    "version": 3
   },
   "file_extension": ".py",
   "mimetype": "text/x-python",
   "name": "python",
   "nbconvert_exporter": "python",
   "pygments_lexer": "ipython3",
   "version": "3.12.0"
  },
  "orig_nbformat": 4
 },
 "nbformat": 4,
 "nbformat_minor": 2
}
