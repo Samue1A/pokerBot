{
 "cells": [
  {
   "cell_type": "code",
   "execution_count": 1,
   "metadata": {},
   "outputs": [
    {
     "name": "stdout",
     "output_type": "stream",
     "text": [
      "Collecting pokerlib==2.2.6\n",
      "  Downloading pokerlib-2.2.6-py3-none-any.whl.metadata (6.7 kB)\n",
      "Downloading pokerlib-2.2.6-py3-none-any.whl (39 kB)\n",
      "Installing collected packages: pokerlib\n",
      "Successfully installed pokerlib-2.2.6\n"
     ]
    },
    {
     "name": "stderr",
     "output_type": "stream",
     "text": [
      "\n",
      "[notice] A new release of pip is available: 23.3.1 -> 25.0.1\n",
      "[notice] To update, run: C:\\Users\\samue\\AppData\\Local\\Microsoft\\WindowsApps\\PythonSoftwareFoundation.Python.3.11_qbz5n2kfra8p0\\python.exe -m pip install --upgrade pip\n"
     ]
    }
   ],
   "source": [
    "!pip install pokerlib==2.2.6\n",
    "#https://pypi.org/project/pokerlib/"
   ]
  },
  {
   "cell_type": "code",
   "execution_count": 1,
   "metadata": {},
   "outputs": [
    {
     "name": "stdout",
     "output_type": "stream",
     "text": [
      "8\n",
      "0\n",
      "True\n",
      "12\n"
     ]
    }
   ],
   "source": [
    "from pokerlib import HandParser\n",
    "from pokerlib.enums import Rank, Suit\n",
    "import sys\n",
    "sys.path.append('../pokerlib')\n",
    "\n",
    "from random import sample\n",
    "from itertools import product, combinations\n",
    "from pokerlib import HandParser\n",
    "from pokerlib.enums import Rank, Suit\n",
    "import copy\n",
    "\n",
    "hand1 = HandParser([\n",
    "    (Rank.KING, Suit.SPADE),\n",
    "    (Rank.ACE, Suit.SPADE)\n",
    "])\n",
    "\n",
    "hand2 = HandParser([\n",
    "    (Rank.FIVE, Suit.CLUB),\n",
    "    (Rank.ACE, Suit.CLUB)\n",
    "])\n",
    "\n",
    "board = [\n",
    "    (Rank.EIGHT, Suit.SPADE),\n",
    "    (Rank.TEN, Suit.SPADE),\n",
    "    (Rank.JACK, Suit.SPADE),\n",
    "    (Rank.QUEEN, Suit.SPADE),\n",
    "    (Rank.TWO, Suit.HEART)\n",
    "]\n",
    "\n",
    "# add new cards to each hand\n",
    "hand1 += board # add the board to hand1\n",
    "hand2 += board # add the board to hand2\n",
    "\n",
    "print(hand1.handenum) # Hand.STRAIGHTFLUSH\n",
    "print(hand2.handenum) # Hand.STRAIGHTFLUSH\n",
    "print(hand1 > hand2) # True\n",
    "print(max((Rank.KING, Suit.SPADE), (Rank.ACE, Suit.SPADE))[0])\n"
   ]
  },
  {
   "cell_type": "code",
   "execution_count": null,
   "metadata": {},
   "outputs": [],
   "source": [
    "\n",
    "hands = []\n",
    "c = list(product(Rank, Suit))\n",
    "hands = list(combinations(c, 2))\n",
    "hands = [HandParser(h) for h in hands]\n",
    "order = sorted(hands)\n",
    "          "
   ]
  },
  {
   "cell_type": "code",
   "execution_count": 2,
   "metadata": {},
   "outputs": [],
   "source": [
    "def ranker(cards, board):\n",
    "    beaten = 0\n",
    "    c = list(product(Rank, Suit))\n",
    "    \n",
    "    for impossible in board + cards:\n",
    "        c.remove(impossible)\n",
    "    \n",
    "    hands = list(combinations(c, 2))\n",
    "    hand = HandParser(cards)\n",
    "    hand += board\n",
    "    for h in hands:\n",
    "        h = HandParser(list(h))\n",
    "        h += board\n",
    "        if h > hand:\n",
    "            beaten += 1\n",
    "        \n",
    "    return beaten, len(hands)\n",
    "        \n",
    "    "
   ]
  },
  {
   "cell_type": "code",
   "execution_count": 65,
   "metadata": {},
   "outputs": [
    {
     "name": "stdout",
     "output_type": "stream",
     "text": [
      "(72, 1225)\n"
     ]
    }
   ],
   "source": [
    "cards = [\n",
    "    (Rank.KING, Suit.SPADE),\n",
    "    (Rank.ACE, Suit.SPADE)\n",
    "]\n",
    "\n",
    "\n",
    "# board = [\n",
    "#     (Rank.EIGHT, Suit.SPADE),\n",
    "#     (Rank.TEN, Suit.SPADE),\n",
    "#     (Rank.JACK, Suit.SPADE)\n",
    "# ]\n",
    "\n",
    "board= []\n",
    "\n",
    "print(ranker(cards, board))"
   ]
  },
  {
   "cell_type": "code",
   "execution_count": 53,
   "metadata": {},
   "outputs": [
    {
     "name": "stdout",
     "output_type": "stream",
     "text": [
      "0.12489795918367352\n"
     ]
    }
   ],
   "source": [
    "def move(cards, board, stack, pot, aggressivity_index):\n",
    "    rank, hands = ranker(cards, board)\n",
    "    odds = 1 - rank/hands\n",
    "    print(odds)\n",
    "    tl = -pot + 2*stack*odds - stack\n",
    "    tr = (pot**2 + 2*pot*stack + stack**2*(1-2*odds)**2)**0.5\n",
    "    kelly_solutions = (tl +tr)/2, (tl-tr)/2\n",
    "    if kelly_solutions[0] + kelly_solutions[1] > 0:\n",
    "        print(kelly_solutions)\n",
    "        return kelly_solutions[0]\n",
    "        \n",
    "    \n",
    "move([(Rank.SEVEN, Suit.CLUB),(Rank.TWO, Suit.SPADE)], [], 500, 10, 5)\n",
    "\n"
   ]
  },
  {
   "cell_type": "code",
   "execution_count": null,
   "metadata": {},
   "outputs": [
    {
     "name": "stdout",
     "output_type": "stream",
     "text": [
      "0.12489795918367352\n",
      "(19.999999999999996, 3.552713678800501e-15)\n"
     ]
    },
    {
     "data": {
      "text/plain": [
       "19.999999999999996"
      ]
     },
     "execution_count": 57,
     "metadata": {},
     "output_type": "execute_result"
    },
    {
     "ename": "",
     "evalue": "",
     "output_type": "error",
     "traceback": [
      "\u001b[1;31mThe Kernel crashed while executing code in the current cell or a previous cell. \n",
      "\u001b[1;31mPlease review the code in the cell(s) to identify a possible cause of the failure. \n",
      "\u001b[1;31mClick <a href='https://aka.ms/vscodeJupyterKernelCrash'>here</a> for more info. \n",
      "\u001b[1;31mView Jupyter <a href='command:jupyter.viewOutput'>log</a> for further details."
     ]
    }
   ],
   "source": [
    "def move(cards, board, stack, pot, aggressivity_index):\n",
    "    rank, hands = ranker(cards, board)\n",
    "    odds = 1 - rank/hands\n",
    "    print(odds)\n",
    "    odds = 0.6\n",
    "    tl = -pot + 2*stack*odds - stack\n",
    "    tr = (pot**2 + 2*pot*stack + stack**2*(1-2*odds)**2)**0.5\n",
    "    kelly_solutions = (tl +tr)/2, (tl-tr)/2\n",
    "    if kelly_solutions[0] + kelly_solutions[1] > 0:\n",
    "        print(kelly_solutions)\n",
    "        return kelly_solutions[0]\n",
    "        \n",
    "    \n",
    "move([(Rank.SEVEN, Suit.CLUB),(Rank.TWO, Suit.SPADE)], [], 100, 0, 5)\n"
   ]
  },
  {
   "cell_type": "code",
   "execution_count": null,
   "metadata": {},
   "outputs": [
    {
     "name": "stdout",
     "output_type": "stream",
     "text": [
      "120\n"
     ]
    }
   ],
   "source": []
  },
  {
   "cell_type": "code",
   "execution_count": null,
   "metadata": {},
   "outputs": [],
   "source": [
    "\n",
    "\n",
    "def winningProbability(players_cards, board=[], n=1000):\n",
    "    cards = list(product(Rank, Suit))\n",
    "    for card in board: cards.remove(card)\n",
    "    for player_cards in players_cards:\n",
    "        for card in player_cards:\n",
    "            cards.remove(card)\n",
    "\n",
    "    wins = [0] * len(players_cards)\n",
    "    for i in range(n):\n",
    "        board_ = sample(cards, 5-len(board))\n",
    "        hands = [\n",
    "            HandParser(player_cards + board + board_)\n",
    "            for player_cards in players_cards\n",
    "        ]\n",
    "        winner = max(hands)\n",
    "        for i, hand in enumerate(hands):\n",
    "            if hand == winner: wins[i] += 1\n",
    "\n",
    "    return [win / n for win in wins]\n",
    "\n",
    "\n",
    "rankings = {}\n",
    "\n",
    "\n",
    "# for hand in hands:\n",
    "#     winning = 0\n",
    "#     nonIncludedCards = copy.copy(cards)\n",
    "#     print(len(nonIncludedCards))\n",
    "#     nonIncludedCards.remove(hand[0])\n",
    "#     nonIncludedCards.remove(hand[1])\n",
    "#     nonIncludehands = list(combinations(nonIncludedCards, 2))\n",
    "#     for h in nonIncludehands:\n",
    "#         winning += winningProbability([list(hand), list(h)])[0]\n",
    "#     rankings[hand] = winning/1225\n",
    "    \n",
    "    \n",
    "# rankings\n",
    "    \n",
    "            \n",
    "\n"
   ]
  },
  {
   "cell_type": "code",
   "execution_count": 6,
   "metadata": {},
   "outputs": [
    {
     "name": "stdout",
     "output_type": "stream",
     "text": [
      "0.336 0.672\n",
      "0.3466666666666667 0.6533333333333333\n"
     ]
    }
   ],
   "source": [
    "w1, w2 = winningProbability([\n",
    "    [(Rank.ACE, Suit.HEART), (Rank.KING, Suit.HEART)],\n",
    "    [(Rank.KING, Suit.SPADE), (Rank.KING, Suit.DIAMOND)]\n",
    "])\n",
    "print(w1,w2)\n",
    "w1, w2 = winningProbability([\n",
    "    [(Rank.ACE, Suit.HEART), (Rank.KING, Suit.HEART)],\n",
    "    [(Rank.KING, Suit.SPADE), (Rank.KING, Suit.DIAMOND)]\n",
    "], [],300)\n",
    "\n",
    "print(w1, w2)"
   ]
  },
  {
   "cell_type": "code",
   "execution_count": 24,
   "metadata": {},
   "outputs": [
    {
     "name": "stdout",
     "output_type": "stream",
     "text": [
      "0 {'player_id': 1, 'player_seat': 0}\n",
      "0 {'player_id': 2, 'player_seat': 1}\n",
      "2 {'round_id': None}\n",
      "0 {'cards': ([<Rank.ACE: 12>, <Suit.HEART: 3>], [<Rank.ACE: 12>, <Suit.CLUB: 1>])}\n",
      "0 {'cards': ([<Rank.TEN: 8>, <Suit.CLUB: 1>], [<Rank.SIX: 4>, <Suit.CLUB: 1>])}\n",
      "0 {}\n",
      "1 {'turn': <Turn.PREFLOP: 0>, 'board': []}\n",
      "2 {'player_id': 1, 'paid_amount': 5, 'small_blind': 5}\n",
      "3 {'player_id': 2, 'paid_amount': 10, 'big_blind': 10}\n",
      "12 {'player_id': 1, 'to_call': 5}\n",
      "5 {'player_id': 1, 'paid_amount': 5}\n",
      "12 {'player_id': 2, 'to_call': 0}\n",
      "[]\n"
     ]
    },
    {
     "data": {
      "text/plain": [
       "20"
      ]
     },
     "execution_count": 24,
     "metadata": {},
     "output_type": "execute_result"
    }
   ],
   "source": [
    "from pokerlib import Table, Player, PlayerSeats\n",
    "from pokerlib.enums import RoundPublicInId, TablePublicInId\n",
    "\n",
    "\n",
    "# table that prints outputs\n",
    "class MyTable(Table):\n",
    "    def publicOut(self, out_id, **kwargs):\n",
    "        print(out_id, kwargs)\n",
    "    def privateOut(self, player_id, out_id, **kwargs):\n",
    "        print(out_id, kwargs)\n",
    "\n",
    "# define a new table\n",
    "table = MyTable(\n",
    "    _id = 0,\n",
    "    seats = PlayerSeats([None] * 9),\n",
    "    buyin = 100,\n",
    "    small_blind = 5,\n",
    "    big_blind = 10\n",
    ")\n",
    "\n",
    "player1 = Player(\n",
    "    table_id = table.id,\n",
    "    _id = 1,\n",
    "    name = 'alice',\n",
    "    money = table.buyin\n",
    ")\n",
    "player2 = Player(\n",
    "    table_id = table.id,\n",
    "    _id = 2,\n",
    "    name = 'bob',\n",
    "    money = table.buyin\n",
    ")\n",
    "# seat player1 at the first seat\n",
    "table += player1, 0\n",
    "# seat player2 at the first free seat\n",
    "table += player2\n",
    "\n",
    "\n",
    "\n",
    "table.publicIn(player1.id, TablePublicInId.STARTROUND)\n",
    "table.publicIn(player1.id, RoundPublicInId.CALL)\n",
    "print(table.round.board)\n",
    "table.round.pot_size[0]\n"
   ]
  },
  {
   "cell_type": "code",
   "execution_count": 56,
   "metadata": {},
   "outputs": [
    {
     "data": {
      "text/plain": [
       "[[<Rank.FIVE: 3>, <Suit.CLUB: 1>],\n",
       " [<Rank.NINE: 7>, <Suit.HEART: 3>],\n",
       " [<Rank.SEVEN: 5>, <Suit.SPADE: 0>],\n",
       " [<Rank.THREE: 1>, <Suit.HEART: 3>],\n",
       " [<Rank.EIGHT: 6>, <Suit.HEART: 3>]]"
      ]
     },
     "execution_count": 56,
     "metadata": {},
     "output_type": "execute_result"
    }
   ],
   "source": [
    "\n",
    "[tuple(card) for card in player2.cards]\n",
    "table.round.board"
   ]
  },
  {
   "cell_type": "code",
   "execution_count": 38,
   "metadata": {},
   "outputs": [],
   "source": [
    "move([tuple(card) for card in player2.cards], table.round.board, player1.money, table.round.pot_size[0], 5)"
   ]
  },
  {
   "cell_type": "code",
   "execution_count": 47,
   "metadata": {},
   "outputs": [
    {
     "name": "stdout",
     "output_type": "stream",
     "text": [
      "4 {'player_id': 2}\n",
      "1 {'turn': <Turn.RIVER: 3>, 'board': [[<Rank.FIVE: 3>, <Suit.CLUB: 1>], [<Rank.NINE: 7>, <Suit.HEART: 3>], [<Rank.SEVEN: 5>, <Suit.SPADE: 0>], [<Rank.THREE: 1>, <Suit.HEART: 3>], [<Rank.EIGHT: 6>, <Suit.HEART: 3>]]}\n",
      "12 {'player_id': 1, 'to_call': 0}\n"
     ]
    }
   ],
   "source": [
    "table.publicIn(player2.id, RoundPublicInId.CHECK)"
   ]
  },
  {
   "cell_type": "code",
   "execution_count": 48,
   "metadata": {},
   "outputs": [
    {
     "name": "stdout",
     "output_type": "stream",
     "text": [
      "4 {'player_id': 1}\n",
      "12 {'player_id': 2, 'to_call': 0}\n"
     ]
    }
   ],
   "source": [
    "table.publicIn(player1.id, RoundPublicInId.CHECK)"
   ]
  },
  {
   "cell_type": "code",
   "execution_count": 54,
   "metadata": {},
   "outputs": [
    {
     "name": "stdout",
     "output_type": "stream",
     "text": [
      "0.9434343434343434\n",
      "(36.27882477090172, -20.804077296154244)\n"
     ]
    },
    {
     "data": {
      "text/plain": [
       "36.27882477090172"
      ]
     },
     "execution_count": 54,
     "metadata": {},
     "output_type": "execute_result"
    }
   ],
   "source": [
    "move([tuple(card) for card in player2.cards], [tuple(card) for card in table.round.board], player1.money, table.round.pot_size[0], 5)"
   ]
  },
  {
   "cell_type": "code",
   "execution_count": 44,
   "metadata": {},
   "outputs": [
    {
     "name": "stdout",
     "output_type": "stream",
     "text": [
      "4 {'player_id': 2}\n",
      "1 {'turn': <Turn.TURN: 2>, 'board': [[<Rank.FIVE: 3>, <Suit.CLUB: 1>], [<Rank.NINE: 7>, <Suit.HEART: 3>], [<Rank.SEVEN: 5>, <Suit.SPADE: 0>], [<Rank.THREE: 1>, <Suit.HEART: 3>]]}\n",
      "12 {'player_id': 1, 'to_call': 0}\n"
     ]
    }
   ],
   "source": [
    "table.publicIn(player2.id, RoundPublicInId.CHECK)"
   ]
  },
  {
   "cell_type": "code",
   "execution_count": 50,
   "metadata": {},
   "outputs": [
    {
     "name": "stdout",
     "output_type": "stream",
     "text": [
      "7 {'player_id': 2, 'raised_by': 50, 'paid_amount': 50}\n",
      "12 {'player_id': 1, 'to_call': 50}\n"
     ]
    }
   ],
   "source": [
    "table.publicIn(player2.id, RoundPublicInId.RAISE, raise_by=50)"
   ]
  },
  {
   "cell_type": "code",
   "execution_count": 51,
   "metadata": {},
   "outputs": [
    {
     "name": "stdout",
     "output_type": "stream",
     "text": [
      "5 {'player_id': 1, 'paid_amount': 50}\n",
      "16 {'player_id': 2, 'money_won': 120, 'cards': ([<Rank.TEN: 8>, <Suit.CLUB: 1>], [<Rank.SIX: 4>, <Suit.CLUB: 1>]), 'handname': <Hand.STRAIGHT: 4>, 'hand': [[<Rank.TEN: 8>, <Suit.CLUB: 1>], [<Rank.NINE: 7>, <Suit.HEART: 3>], [<Rank.EIGHT: 6>, <Suit.HEART: 3>], [<Rank.SEVEN: 5>, <Suit.SPADE: 0>], [<Rank.SIX: 4>, <Suit.CLUB: 1>]]}\n",
      "14 {'player_id': 2, 'cards': ([<Rank.TEN: 8>, <Suit.CLUB: 1>], [<Rank.SIX: 4>, <Suit.CLUB: 1>]), 'kickers': None}\n",
      "13 {'player_id': 1}\n",
      "17 {}\n"
     ]
    }
   ],
   "source": [
    "table.publicIn(player1.id, RoundPublicInId.CALL)"
   ]
  }
 ],
 "metadata": {
  "kernelspec": {
   "display_name": "Python 3",
   "language": "python",
   "name": "python3"
  },
  "language_info": {
   "codemirror_mode": {
    "name": "ipython",
    "version": 3
   },
   "file_extension": ".py",
   "mimetype": "text/x-python",
   "name": "python",
   "nbconvert_exporter": "python",
   "pygments_lexer": "ipython3",
   "version": "3.11.9"
  }
 },
 "nbformat": 4,
 "nbformat_minor": 2
}
