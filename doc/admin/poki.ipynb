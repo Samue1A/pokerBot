{
 "cells": [
  {
   "cell_type": "code",
   "execution_count": 5,
   "metadata": {},
   "outputs": [
    {
     "data": {
      "text/plain": [
       "28743"
      ]
     },
     "execution_count": 5,
     "metadata": {},
     "output_type": "execute_result"
    }
   ],
   "source": [
    "import holdem_hand_evaluator\n",
    "import random as rand\n",
    "import time\n",
    "import copy as cp\n",
    "\n",
    "holdem_hand_evaluator.evaluate_hand(\"7h7c7d7sAc9c8c\")\n",
    "#bigger is better"
   ]
  },
  {
   "cell_type": "code",
   "execution_count": 6,
   "metadata": {},
   "outputs": [],
   "source": [
    "class Player():\n",
    "    def __init__(self):\n",
    "        self.cards = None\n",
    "        self.stack = 10**3\n",
    "    def bet(self, amount):\n",
    "        if amount > self.stack:\n",
    "            amount = self.stack\n",
    "        self.stack -= amount\n",
    "        return amount, self.stack"
   ]
  },
  {
   "cell_type": "code",
   "execution_count": 15,
   "metadata": {},
   "outputs": [],
   "source": [
    "class dealer():\n",
    "    def __init__(self, Players):\n",
    "        vals = [str(i) for i in range(2,10)] + ['T', 'J', 'Q', 'K', 'A']\n",
    "        suits = ['h', 'c', 'd', 's']\n",
    "        self.deck = [j + i for i in suits for j in vals]\n",
    "        self.Players = Players\n",
    "        self.played = []\n",
    "        self.pot = 0\n",
    "    \n",
    "    def take_card(self):\n",
    "        card = rand.choice(self.deck)\n",
    "        self.deck.remove(card)\n",
    "        return card\n",
    "    \n",
    "    def preflop(self):\n",
    "        for player in self.Players:\n",
    "            player.cards = [self.take_card(), self.take_card()]\n",
    "        \n",
    "    def flop(self):\n",
    "        cs = [self.take_card(), self.take_card(), self.take_card()]\n",
    "        self.played = cs\n",
    "        return cs\n",
    "\n",
    "    def turn(self):\n",
    "        cs = [self.take_card()]\n",
    "        self.played += cs\n",
    "        return cs\n",
    "\n",
    "    def river(self):\n",
    "        cs = [self.take_card()]\n",
    "        self.played += cs\n",
    "        return cs\n",
    "    \n",
    "    def betting(self):\n",
    "        playrs = [[p, 0] for p in self.Players]\n",
    "        #just changed so error\n",
    "        previous = playrs[0][1]\n",
    "        i=0\n",
    "        runitback = False\n",
    "        while i < len(playrs):\n",
    "            p = playrs[i][0]\n",
    "            commit=playrs[i][1]\n",
    "            if commit < previous or previous == 0:\n",
    "                bet = int(input(f'what would you like to bet with {p.cards} and {p.stack}, having commited to this round {commit}. To call or check, please bet {previous-commit} ? '))\n",
    "                while bet+commit < previous or previous<bet+commit<2*previous:\n",
    "                    if bet<previous:\n",
    "                        bet = int(input(f'to call you must bet at least {previous-commit}'))\n",
    "                    else:\n",
    "                        bet = int(input(f'To min raise, you must bet at least {2*previous-commit}'))\n",
    "                playrs[i][1] += bet\n",
    "                p.bet(bet)\n",
    "                self.pot += bet\n",
    "            \n",
    "            if playrs[i][1] > previous:\n",
    "                #if raise --> we do another round of betting\n",
    "                previous = playrs[i][1]\n",
    "                runitback = True\n",
    "            \n",
    "            i+=1\n",
    "            \n",
    "            if i == len(playrs) and runitback:\n",
    "                runitback = False\n",
    "                i = 0  \n",
    "    \n",
    "    def award_winner(self):\n",
    "        scores = []\n",
    "        for player in self.Players:\n",
    "            scores.append(holdem_hand_evaluator.evaluate_hand(''.join(player.cards + self.played)))\n",
    "        winner_index = scores.index(max(scores))\n",
    "        print(f'winning hand: {self.Players[winner_index].cards}')\n",
    "        self.Players[winner_index].stack += self.pot\n",
    "        return f'new stack {self.Players[winner_index].stack}' "
   ]
  },
  {
   "cell_type": "code",
   "execution_count": 16,
   "metadata": {},
   "outputs": [],
   "source": [
    "def run_game(x):\n",
    "    ps = [Player() for i in range(x)]       \n",
    "    d = dealer(ps)\n",
    "    d.preflop()\n",
    "    for p in ps:\n",
    "        print(p.cards)\n",
    "    time.sleep(1)\n",
    "    d.betting()\n",
    "    print(d.pot)\n",
    "    time.sleep(1)\n",
    "    print(d.flop())\n",
    "    d.betting()\n",
    "    print(d.pot)\n",
    "    time.sleep(1)\n",
    "    print(d.turn())\n",
    "    d.betting()\n",
    "    print(d.pot)\n",
    "    time.sleep(1)\n",
    "    print(d.river())\n",
    "    d.betting()\n",
    "    print(d.pot)\n",
    "    print('-------------------------------------')\n",
    "    d.award_winner()\n",
    "        \n"
   ]
  },
  {
   "cell_type": "code",
   "execution_count": 17,
   "metadata": {},
   "outputs": [
    {
     "name": "stdout",
     "output_type": "stream",
     "text": [
      "['Ts', 'Ks']\n",
      "['Ac', 'Qh']\n",
      "40\n",
      "['7s', '6h', 'As']\n",
      "160\n",
      "['4h']\n",
      "200\n",
      "['8h']\n",
      "320\n",
      "-------------------------------------\n",
      "winning hand: ['Ac', 'Qh']\n"
     ]
    }
   ],
   "source": [
    "run_game(2)"
   ]
  }
 ],
 "metadata": {
  "kernelspec": {
   "display_name": "Python 3",
   "language": "python",
   "name": "python3"
  },
  "language_info": {
   "codemirror_mode": {
    "name": "ipython",
    "version": 3
   },
   "file_extension": ".py",
   "mimetype": "text/x-python",
   "name": "python",
   "nbconvert_exporter": "python",
   "pygments_lexer": "ipython3",
   "version": "3.12.0"
  },
  "orig_nbformat": 4
 },
 "nbformat": 4,
 "nbformat_minor": 2
}
